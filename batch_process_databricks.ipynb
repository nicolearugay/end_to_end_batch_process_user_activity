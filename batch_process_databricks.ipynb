{
 "cells": [
  {
   "cell_type": "code",
   "execution_count": null,
   "metadata": {
    "application/vnd.databricks.v1+cell": {
     "cellMetadata": {
      "byteLimit": 2048000,
      "rowLimit": 10000
     },
     "inputWidgets": {},
     "nuid": "4bbfcf6b-ed8f-4996-a336-1b6ec1b59d15",
     "showTitle": false,
     "title": ""
    }
   },
   "outputs": [],
   "source": [
    "# Function to initialize widgets for user input\n",
    "def create_widgets():\n",
    "    dbutils.widgets.text(\"file_location\", \"s3/file/path\", \"Upload Location\")\n",
    "    dbutils.widgets.dropdown(\"file_type\", \"json\", [\"csv\", 'parquet', 'json'])\n",
    "\n",
    "# Function to read data from S3 and return a DataFrame\n",
    "def read_data_from_s3(file_type, file_location):\n",
    "    return spark.read.format(file_type) \\\n",
    "                     .option(\"inferSchema\", \"true\") \\\n",
    "                     .load(file_location).limit(1)\n",
    "\n",
    "# Function to fetch Snowflake credentials and prepare options\n",
    "def get_snowflake_options():\n",
    "    user = dbutils.secrets.get(\"snowflake_credentials\", \"username\")\n",
    "    password = dbutils.secrets.get(\"snowflake_credentials\", \"password\")\n",
    "    return {\n",
    "        \"sfUrl\": \"url\",\n",
    "        \"sfUser\": user,\n",
    "        \"sfPassword\": password,\n",
    "        \"sfDatabase\": \"database\",\n",
    "        \"sfSchema\": \"schema\",\n",
    "        \"sfWarehouse\": \"warehouse\"\n",
    "    }\n",
    "\n",
    "# Function to write a DataFrame to a Snowflake table\n",
    "def write_to_snowflake(df, options, table_name=\"table\"):\n",
    "    df.write \\\n",
    "      .format(\"snowflake\") \\\n",
    "      .options(**options) \\\n",
    "      .option(\"dbtable\", table_name) \\\n",
    "      .mode(\"append\") \\\n",
    "      .save()\n",
    "\n",
    "# Main function to run the workflow\n",
    "def main():\n",
    "    try:\n",
    "        create_widgets()\n",
    "        \n",
    "        file_type = dbutils.widgets.get(\"file_type\")\n",
    "        file_location = dbutils.widgets.get(\"file_location\")\n",
    "        \n",
    "        df = read_data_from_s3(file_type, file_location)\n",
    "        df.show()\n",
    "\n",
    "        snowflake_options = get_snowflake_options()\n",
    "        write_to_snowflake(df, snowflake_options)\n",
    "    except Exception as e:\n",
    "        print(f\"An error occurred: {e}\")\n",
    "\n",
    "# main()\n"
   ]
  }
 ],
 "metadata": {
  "application/vnd.databricks.v1+notebook": {
   "dashboards": [],
   "language": "python",
   "notebookMetadata": {
    "pythonIndentUnit": 4
   },
   "notebookName": "spark_user_activity",
   "widgets": {
    "file_location": {
     "currentValue": "s3a://mybucketbatch/user_activity_data.json",
     "nuid": "41fd566e-b7f0-42fb-8f13-15209f8d3cbb",
     "widgetInfo": {
      "defaultValue": "s3a://mybucketbatch/user_activity_data.json",
      "label": "Upload Location",
      "name": "file_location",
      "options": {
       "validationRegex": null,
       "widgetType": "text"
      },
      "widgetType": "text"
     }
    },
    "file_type": {
     "currentValue": "json",
     "nuid": "ae5369a6-c80e-4aa7-843a-0f62b63b6fd6",
     "widgetInfo": {
      "defaultValue": "json",
      "label": null,
      "name": "file_type",
      "options": {
       "choices": [
        "csv",
        "parquet",
        "json"
       ],
       "widgetType": "dropdown"
      },
      "widgetType": "dropdown"
     }
    }
   }
  },
  "language_info": {
   "name": "python"
  }
 },
 "nbformat": 4,
 "nbformat_minor": 0
}

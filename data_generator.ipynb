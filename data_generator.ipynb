{
 "cells": [
  {
   "cell_type": "code",
   "execution_count": 1,
   "id": "5b5d83d7",
   "metadata": {},
   "outputs": [],
   "source": [
    "import json\n",
    "import random\n",
    "import boto3"
   ]
  },
  {
   "cell_type": "code",
   "execution_count": 2,
   "id": "a1483a65",
   "metadata": {},
   "outputs": [],
   "source": [
    "def generate_activity_data(num_records=1000000):\n",
    "    activities = []\n",
    "    activity_types = ['view', 'click', 'purchase']\n",
    "    \n",
    "    for _ in range(num_records):\n",
    "        activity = {\n",
    "            'user_id': random.randint(1, 1000000),\n",
    "            'activity_type': random.choice(activity_types),\n",
    "            'product_id': random.randint(1, 50),\n",
    "            'timestamp': str(random.randint(1630658400, 1630694800)) \n",
    "        }\n",
    "        activities.append(activity)\n",
    "    \n",
    "    return activities\n"
   ]
  },
  {
   "cell_type": "code",
   "execution_count": 3,
   "id": "f9e51df1",
   "metadata": {},
   "outputs": [],
   "source": [
    "activity_data = generate_activity_data()\n",
    "activity_data_json = json.dumps(activity_data)"
   ]
  },
  {
   "cell_type": "code",
   "execution_count": 5,
   "id": "0e2ebf68",
   "metadata": {},
   "outputs": [],
   "source": [
    "s3_client = boto3.client('s3')\n"
   ]
  },
  {
   "cell_type": "code",
   "execution_count": 6,
   "id": "74e1fb11",
   "metadata": {},
   "outputs": [
    {
     "data": {
      "text/plain": [
       "{'ResponseMetadata': {'RequestId': 'XN9BAV4Z2H1MWCF2',\n",
       "  'HostId': 'F7QYYiRiViG4aHOZyr5t78FzbGYuHs5WEEPN4Uk6bTCLsbs/GcYURTJqR7g/jplhlV4y+Cbqgp4=',\n",
       "  'HTTPStatusCode': 200,\n",
       "  'HTTPHeaders': {'x-amz-id-2': 'F7QYYiRiViG4aHOZyr5t78FzbGYuHs5WEEPN4Uk6bTCLsbs/GcYURTJqR7g/jplhlV4y+Cbqgp4=',\n",
       "   'x-amz-request-id': 'XN9BAV4Z2H1MWCF2',\n",
       "   'date': 'Fri, 08 Sep 2023 19:49:03 GMT',\n",
       "   'x-amz-version-id': 'nAsiDrmE.X5AcAmLUQd4DI07bibh56JT',\n",
       "   'x-amz-server-side-encryption': 'AES256',\n",
       "   'etag': '\"0f5beb31410d44d2ca23c662a4ab24bc\"',\n",
       "   'server': 'AmazonS3',\n",
       "   'content-length': '0'},\n",
       "  'RetryAttempts': 0},\n",
       " 'ETag': '\"0f5beb31410d44d2ca23c662a4ab24bc\"',\n",
       " 'ServerSideEncryption': 'AES256',\n",
       " 'VersionId': 'nAsiDrmE.X5AcAmLUQd4DI07bibh56JT'}"
      ]
     },
     "execution_count": 6,
     "metadata": {},
     "output_type": "execute_result"
    }
   ],
   "source": [
    "bucket_name = 'mybucketbatch'\n",
    "object_name = 'user_activity_data.json'\n",
    "\n",
    "s3_client.put_object(Body=activity_data_json, Bucket=bucket_name, Key=object_name)\n"
   ]
  }
 ],
 "metadata": {
  "kernelspec": {
   "display_name": "Python 3 (ipykernel)",
   "language": "python",
   "name": "python3"
  },
  "language_info": {
   "codemirror_mode": {
    "name": "ipython",
    "version": 3
   },
   "file_extension": ".py",
   "mimetype": "text/x-python",
   "name": "python",
   "nbconvert_exporter": "python",
   "pygments_lexer": "ipython3",
   "version": "3.9.18"
  }
 },
 "nbformat": 4,
 "nbformat_minor": 5
}
